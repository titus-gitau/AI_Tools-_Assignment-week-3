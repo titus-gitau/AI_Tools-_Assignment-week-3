{
 "cells": [
  {
   "cell_type": "markdown",
   "id": "61335cda",
   "metadata": {},
   "source": [
    "# 03_spaCy_NLP_Analysis\n",
    "\n",
    "**Objective:** Perform Named Entity Recognition on product review text and run a simple rule-based sentiment check."
   ]
  },
  {
   "cell_type": "code",
   "execution_count": null,
   "id": "99ba7a44",
   "metadata": {},
   "outputs": [],
   "source": [
    "# Install note: run `!pip install spacy` and `!python -m spacy download en_core_web_sm` in Colab/Jupyter if needed\n",
    "import spacy\n",
    "from spacy import displacy\n",
    "\n",
    "nlp = spacy.load('en_core_web_sm')\n",
    "\n",
    "reviews = [\n",
    "    \"I love my new Samsung Galaxy S21 — the camera is awesome!\",\n",
    "    \"The Acme blender stopped working after a week; very disappointed.\",\n",
    "    \"Bought the Contoso headphones — sound quality is great but the left earcup squeaks.\"\n",
    "]\n",
    "\n",
    "for r in reviews:\n",
    "    doc = nlp(r)\n",
    "    print('Review:', r)\n",
    "    print('Entities:', [(ent.text, ent.label_) for ent in doc.ents])\n",
    "    print()"
   ]
  },
  {
   "cell_type": "code",
   "execution_count": null,
   "id": "68d17314",
   "metadata": {},
   "outputs": [],
   "source": [
    "# Simple keyword-based sentiment analysis\n",
    "positive_keywords = set(['love','great','awesome','excellent','good','amazing'])\n",
    "negative_keywords = set(['hate','disappointed','bad','terrible','stopped','squeaks','poor'])\n",
    "\n",
    "for r in reviews:\n",
    "    r_low = r.lower()\n",
    "    pos = sum(1 for w in positive_keywords if w in r_low)\n",
    "    neg = sum(1 for w in negative_keywords if w in r_low)\n",
    "    sentiment = 'Positive' if pos >= neg and (pos>0 or neg==0) else 'Negative' if neg>pos else 'Neutral'\n",
    "    print(r)\n",
    "    print('Sentiment:', sentiment)\n",
    "    print('Entities:', [(ent.text, ent.label_) for ent in nlp(r).ents])\n",
    "    print('---')"
   ]
  }
 ],
 "metadata": {},
 "nbformat": 4,
 "nbformat_minor": 5
}
